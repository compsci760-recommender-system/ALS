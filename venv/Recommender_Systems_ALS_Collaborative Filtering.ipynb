{
 "cells": [
  {
   "cell_type": "markdown",
   "metadata": {},
   "source": [
    "# SOURCE CODE\n",
    "# https://gist.github.com/victorkohler/f48ea6512058719ba52053851fedc745"
   ]
  },
  {
   "cell_type": "code",
   "execution_count": 72,
   "metadata": {},
   "outputs": [],
   "source": [
    "import sys\n",
    "import pandas as pd\n",
    "import numpy as np\n",
    "import scipy.sparse as sparse\n",
    "from scipy.sparse.linalg import spsolve\n",
    "import random\n",
    "\n",
    "from sklearn.preprocessing import MinMaxScaler\n",
    "\n",
    "import implicit"
   ]
  },
  {
   "cell_type": "markdown",
   "metadata": {},
   "source": [
    "# Data Preprocessing for Matrix User x Item"
   ]
  },
  {
   "cell_type": "code",
   "execution_count": 73,
   "metadata": {},
   "outputs": [],
   "source": [
    "train_data = pd.read_csv('train.csv')\n",
    "test_data = pd.read_csv('test.csv')"
   ]
  },
  {
   "cell_type": "code",
   "execution_count": 74,
   "metadata": {},
   "outputs": [
    {
     "data": {
      "text/plain": [
       "(3782335, 12)"
      ]
     },
     "execution_count": 74,
     "metadata": {},
     "output_type": "execute_result"
    }
   ],
   "source": [
    "#np.shape(train_data)\n",
    "np.shape(test_data)"
   ]
  },
  {
   "cell_type": "code",
   "execution_count": 75,
   "metadata": {},
   "outputs": [
    {
     "data": {
      "text/plain": [
       "(19715327, 12)"
      ]
     },
     "execution_count": 75,
     "metadata": {},
     "output_type": "execute_result"
    }
   ],
   "source": [
    "train = train_data.append(test_data)\n",
    "np.shape(train)"
   ]
  },
  {
   "cell_type": "code",
   "execution_count": 76,
   "metadata": {},
   "outputs": [],
   "source": [
    "item_metadata = pd.read_csv('item_metadata.csv', sep=',', engine='python')"
   ]
  },
  {
   "cell_type": "code",
   "execution_count": 77,
   "metadata": {},
   "outputs": [
    {
     "data": {
      "text/html": [
       "<div>\n",
       "<style scoped>\n",
       "    .dataframe tbody tr th:only-of-type {\n",
       "        vertical-align: middle;\n",
       "    }\n",
       "\n",
       "    .dataframe tbody tr th {\n",
       "        vertical-align: top;\n",
       "    }\n",
       "\n",
       "    .dataframe thead th {\n",
       "        text-align: right;\n",
       "    }\n",
       "</style>\n",
       "<table border=\"1\" class=\"dataframe\">\n",
       "  <thead>\n",
       "    <tr style=\"text-align: right;\">\n",
       "      <th></th>\n",
       "      <th>user_id</th>\n",
       "      <th>session_id</th>\n",
       "      <th>timestamp</th>\n",
       "      <th>step</th>\n",
       "      <th>action_type</th>\n",
       "      <th>reference</th>\n",
       "      <th>platform</th>\n",
       "      <th>city</th>\n",
       "      <th>device</th>\n",
       "      <th>current_filters</th>\n",
       "      <th>impressions</th>\n",
       "      <th>prices</th>\n",
       "    </tr>\n",
       "  </thead>\n",
       "  <tbody>\n",
       "    <tr>\n",
       "      <th>29</th>\n",
       "      <td>01R92KASN25O</td>\n",
       "      <td>62991f7c78f27</td>\n",
       "      <td>1541055672</td>\n",
       "      <td>8</td>\n",
       "      <td>clickout item</td>\n",
       "      <td>7818446</td>\n",
       "      <td>DE</td>\n",
       "      <td>Luebeck, Germany</td>\n",
       "      <td>mobile</td>\n",
       "      <td>NaN</td>\n",
       "      <td>7818446|51315|2133708|119638|86359|133581|6688...</td>\n",
       "      <td>163|75|93|98|169|201|129|117|108|170|133|80|87...</td>\n",
       "    </tr>\n",
       "    <tr>\n",
       "      <th>32</th>\n",
       "      <td>026J2T90PT57</td>\n",
       "      <td>67c4d45f56146</td>\n",
       "      <td>1541105688</td>\n",
       "      <td>1</td>\n",
       "      <td>clickout item</td>\n",
       "      <td>2681512</td>\n",
       "      <td>MX</td>\n",
       "      <td>Ezequiel Montes, Mexico</td>\n",
       "      <td>mobile</td>\n",
       "      <td>NaN</td>\n",
       "      <td>6010044|5433188|5156000|4780400|5137162|992819...</td>\n",
       "      <td>38|35|54|37|73|37|37|30|71|75|64|26|25|37|40|3...</td>\n",
       "    </tr>\n",
       "    <tr>\n",
       "      <th>39</th>\n",
       "      <td>032W52V15J3A</td>\n",
       "      <td>e84393cf62d13</td>\n",
       "      <td>1541102603</td>\n",
       "      <td>7</td>\n",
       "      <td>clickout item</td>\n",
       "      <td>929533</td>\n",
       "      <td>HR</td>\n",
       "      <td>Cancun, Mexico</td>\n",
       "      <td>mobile</td>\n",
       "      <td>NaN</td>\n",
       "      <td>3132957|100226|1954167|9462680|2776177|929533|...</td>\n",
       "      <td>25|324|67|52|57|21|90|240|64|37|70|60|167|45|6...</td>\n",
       "    </tr>\n",
       "    <tr>\n",
       "      <th>73</th>\n",
       "      <td>03F93632Y45U</td>\n",
       "      <td>f09aa370de0af</td>\n",
       "      <td>1541109160</td>\n",
       "      <td>34</td>\n",
       "      <td>clickout item</td>\n",
       "      <td>8496296</td>\n",
       "      <td>US</td>\n",
       "      <td>San Diego, USA</td>\n",
       "      <td>mobile</td>\n",
       "      <td>NaN</td>\n",
       "      <td>9112592|102414|9140448|5654906|4341120|9739716...</td>\n",
       "      <td>263|114|263|273|122|194|236|161|219|113|110|19...</td>\n",
       "    </tr>\n",
       "    <tr>\n",
       "      <th>393</th>\n",
       "      <td>08527D0MD8VC</td>\n",
       "      <td>3e2a95e5727f9</td>\n",
       "      <td>1541099104</td>\n",
       "      <td>320</td>\n",
       "      <td>clickout item</td>\n",
       "      <td>8266350</td>\n",
       "      <td>ES</td>\n",
       "      <td>Lisbon, Portugal</td>\n",
       "      <td>desktop</td>\n",
       "      <td>NaN</td>\n",
       "      <td>3505518|1834297|4837106|3990396|2042495|486747...</td>\n",
       "      <td>47|50|45|40|45|40|40|50|50|45|50|45|38|49|48|3...</td>\n",
       "    </tr>\n",
       "  </tbody>\n",
       "</table>\n",
       "</div>"
      ],
      "text/plain": [
       "          user_id     session_id   timestamp  step    action_type reference  \\\n",
       "29   01R92KASN25O  62991f7c78f27  1541055672     8  clickout item   7818446   \n",
       "32   026J2T90PT57  67c4d45f56146  1541105688     1  clickout item   2681512   \n",
       "39   032W52V15J3A  e84393cf62d13  1541102603     7  clickout item    929533   \n",
       "73   03F93632Y45U  f09aa370de0af  1541109160    34  clickout item   8496296   \n",
       "393  08527D0MD8VC  3e2a95e5727f9  1541099104   320  clickout item   8266350   \n",
       "\n",
       "    platform                     city   device current_filters  \\\n",
       "29        DE         Luebeck, Germany   mobile             NaN   \n",
       "32        MX  Ezequiel Montes, Mexico   mobile             NaN   \n",
       "39        HR           Cancun, Mexico   mobile             NaN   \n",
       "73        US           San Diego, USA   mobile             NaN   \n",
       "393       ES         Lisbon, Portugal  desktop             NaN   \n",
       "\n",
       "                                           impressions  \\\n",
       "29   7818446|51315|2133708|119638|86359|133581|6688...   \n",
       "32   6010044|5433188|5156000|4780400|5137162|992819...   \n",
       "39   3132957|100226|1954167|9462680|2776177|929533|...   \n",
       "73   9112592|102414|9140448|5654906|4341120|9739716...   \n",
       "393  3505518|1834297|4837106|3990396|2042495|486747...   \n",
       "\n",
       "                                                prices  \n",
       "29   163|75|93|98|169|201|129|117|108|170|133|80|87...  \n",
       "32   38|35|54|37|73|37|37|30|71|75|64|26|25|37|40|3...  \n",
       "39   25|324|67|52|57|21|90|240|64|37|70|60|167|45|6...  \n",
       "73   263|114|263|273|122|194|236|161|219|113|110|19...  \n",
       "393  47|50|45|40|45|40|40|50|50|45|50|45|38|49|48|3...  "
      ]
     },
     "execution_count": 77,
     "metadata": {},
     "output_type": "execute_result"
    }
   ],
   "source": [
    "train_v2 = train[train['action_type']=='clickout item']\n",
    "train_v2= train_v2[train_v2.reference.notnull()]\n",
    "train_v2.head()"
   ]
  },
  {
   "cell_type": "code",
   "execution_count": 78,
   "metadata": {},
   "outputs": [
    {
     "data": {
      "text/plain": [
       "user_id            object\n",
       "session_id         object\n",
       "timestamp           int64\n",
       "step                int64\n",
       "action_type        object\n",
       "reference          object\n",
       "platform           object\n",
       "city               object\n",
       "device             object\n",
       "current_filters    object\n",
       "impressions        object\n",
       "prices             object\n",
       "dtype: object"
      ]
     },
     "execution_count": 78,
     "metadata": {},
     "output_type": "execute_result"
    }
   ],
   "source": [
    "train_v2.dtypes"
   ]
  },
  {
   "cell_type": "code",
   "execution_count": 79,
   "metadata": {},
   "outputs": [
    {
     "data": {
      "text/plain": [
       "user_id            object\n",
       "session_id         object\n",
       "timestamp           int64\n",
       "step                int64\n",
       "action_type        object\n",
       "reference           int64\n",
       "platform           object\n",
       "city               object\n",
       "device             object\n",
       "current_filters    object\n",
       "impressions        object\n",
       "prices             object\n",
       "dtype: object"
      ]
     },
     "execution_count": 79,
     "metadata": {},
     "output_type": "execute_result"
    }
   ],
   "source": [
    "train_v2[\"reference\"]= train_v2[\"reference\"].astype(int)\n",
    "train_v2[\"step\"]= train_v2[\"step\"].astype(int)\n",
    "train_v2.dtypes"
   ]
  },
  {
   "cell_type": "code",
   "execution_count": 80,
   "metadata": {},
   "outputs": [
    {
     "data": {
      "text/html": [
       "<div>\n",
       "<style scoped>\n",
       "    .dataframe tbody tr th:only-of-type {\n",
       "        vertical-align: middle;\n",
       "    }\n",
       "\n",
       "    .dataframe tbody tr th {\n",
       "        vertical-align: top;\n",
       "    }\n",
       "\n",
       "    .dataframe thead th {\n",
       "        text-align: right;\n",
       "    }\n",
       "</style>\n",
       "<table border=\"1\" class=\"dataframe\">\n",
       "  <thead>\n",
       "    <tr style=\"text-align: right;\">\n",
       "      <th></th>\n",
       "      <th>user_id</th>\n",
       "      <th>session_id</th>\n",
       "      <th>timestamp</th>\n",
       "      <th>step</th>\n",
       "      <th>action_type</th>\n",
       "      <th>reference</th>\n",
       "      <th>platform</th>\n",
       "      <th>city</th>\n",
       "      <th>device</th>\n",
       "      <th>current_filters</th>\n",
       "      <th>impressions</th>\n",
       "      <th>prices</th>\n",
       "    </tr>\n",
       "  </thead>\n",
       "  <tbody>\n",
       "    <tr>\n",
       "      <th>29</th>\n",
       "      <td>01R92KASN25O</td>\n",
       "      <td>62991f7c78f27</td>\n",
       "      <td>1541055672</td>\n",
       "      <td>8</td>\n",
       "      <td>clickout item</td>\n",
       "      <td>7818446</td>\n",
       "      <td>DE</td>\n",
       "      <td>Luebeck, Germany</td>\n",
       "      <td>mobile</td>\n",
       "      <td>NaN</td>\n",
       "      <td>7818446|51315|2133708|119638|86359|133581|6688...</td>\n",
       "      <td>163|75|93|98|169|201|129|117|108|170|133|80|87...</td>\n",
       "    </tr>\n",
       "    <tr>\n",
       "      <th>32</th>\n",
       "      <td>026J2T90PT57</td>\n",
       "      <td>67c4d45f56146</td>\n",
       "      <td>1541105688</td>\n",
       "      <td>1</td>\n",
       "      <td>clickout item</td>\n",
       "      <td>2681512</td>\n",
       "      <td>MX</td>\n",
       "      <td>Ezequiel Montes, Mexico</td>\n",
       "      <td>mobile</td>\n",
       "      <td>NaN</td>\n",
       "      <td>6010044|5433188|5156000|4780400|5137162|992819...</td>\n",
       "      <td>38|35|54|37|73|37|37|30|71|75|64|26|25|37|40|3...</td>\n",
       "    </tr>\n",
       "    <tr>\n",
       "      <th>39</th>\n",
       "      <td>032W52V15J3A</td>\n",
       "      <td>e84393cf62d13</td>\n",
       "      <td>1541102603</td>\n",
       "      <td>7</td>\n",
       "      <td>clickout item</td>\n",
       "      <td>929533</td>\n",
       "      <td>HR</td>\n",
       "      <td>Cancun, Mexico</td>\n",
       "      <td>mobile</td>\n",
       "      <td>NaN</td>\n",
       "      <td>3132957|100226|1954167|9462680|2776177|929533|...</td>\n",
       "      <td>25|324|67|52|57|21|90|240|64|37|70|60|167|45|6...</td>\n",
       "    </tr>\n",
       "    <tr>\n",
       "      <th>73</th>\n",
       "      <td>03F93632Y45U</td>\n",
       "      <td>f09aa370de0af</td>\n",
       "      <td>1541109160</td>\n",
       "      <td>34</td>\n",
       "      <td>clickout item</td>\n",
       "      <td>8496296</td>\n",
       "      <td>US</td>\n",
       "      <td>San Diego, USA</td>\n",
       "      <td>mobile</td>\n",
       "      <td>NaN</td>\n",
       "      <td>9112592|102414|9140448|5654906|4341120|9739716...</td>\n",
       "      <td>263|114|263|273|122|194|236|161|219|113|110|19...</td>\n",
       "    </tr>\n",
       "    <tr>\n",
       "      <th>393</th>\n",
       "      <td>08527D0MD8VC</td>\n",
       "      <td>3e2a95e5727f9</td>\n",
       "      <td>1541099104</td>\n",
       "      <td>320</td>\n",
       "      <td>clickout item</td>\n",
       "      <td>8266350</td>\n",
       "      <td>ES</td>\n",
       "      <td>Lisbon, Portugal</td>\n",
       "      <td>desktop</td>\n",
       "      <td>NaN</td>\n",
       "      <td>3505518|1834297|4837106|3990396|2042495|486747...</td>\n",
       "      <td>47|50|45|40|45|40|40|50|50|45|50|45|38|49|48|3...</td>\n",
       "    </tr>\n",
       "  </tbody>\n",
       "</table>\n",
       "</div>"
      ],
      "text/plain": [
       "          user_id     session_id   timestamp  step    action_type  reference  \\\n",
       "29   01R92KASN25O  62991f7c78f27  1541055672     8  clickout item    7818446   \n",
       "32   026J2T90PT57  67c4d45f56146  1541105688     1  clickout item    2681512   \n",
       "39   032W52V15J3A  e84393cf62d13  1541102603     7  clickout item     929533   \n",
       "73   03F93632Y45U  f09aa370de0af  1541109160    34  clickout item    8496296   \n",
       "393  08527D0MD8VC  3e2a95e5727f9  1541099104   320  clickout item    8266350   \n",
       "\n",
       "    platform                     city   device current_filters  \\\n",
       "29        DE         Luebeck, Germany   mobile             NaN   \n",
       "32        MX  Ezequiel Montes, Mexico   mobile             NaN   \n",
       "39        HR           Cancun, Mexico   mobile             NaN   \n",
       "73        US           San Diego, USA   mobile             NaN   \n",
       "393       ES         Lisbon, Portugal  desktop             NaN   \n",
       "\n",
       "                                           impressions  \\\n",
       "29   7818446|51315|2133708|119638|86359|133581|6688...   \n",
       "32   6010044|5433188|5156000|4780400|5137162|992819...   \n",
       "39   3132957|100226|1954167|9462680|2776177|929533|...   \n",
       "73   9112592|102414|9140448|5654906|4341120|9739716...   \n",
       "393  3505518|1834297|4837106|3990396|2042495|486747...   \n",
       "\n",
       "                                                prices  \n",
       "29   163|75|93|98|169|201|129|117|108|170|133|80|87...  \n",
       "32   38|35|54|37|73|37|37|30|71|75|64|26|25|37|40|3...  \n",
       "39   25|324|67|52|57|21|90|240|64|37|70|60|167|45|6...  \n",
       "73   263|114|263|273|122|194|236|161|219|113|110|19...  \n",
       "393  47|50|45|40|45|40|40|50|50|45|50|45|38|49|48|3...  "
      ]
     },
     "execution_count": 80,
     "metadata": {},
     "output_type": "execute_result"
    }
   ],
   "source": [
    "train_v2.head()\n",
    "#np.shape(train_v2)"
   ]
  },
  {
   "cell_type": "code",
   "execution_count": 81,
   "metadata": {},
   "outputs": [
    {
     "data": {
      "text/plain": [
       "(1861792, 12)"
      ]
     },
     "execution_count": 81,
     "metadata": {},
     "output_type": "execute_result"
    }
   ],
   "source": [
    "#train_v3 = train_v2.head(10000)\n",
    "train_v3 = train_v2\n",
    "train_v3.head()\n",
    "np.shape(train_v3)"
   ]
  },
  {
   "cell_type": "code",
   "execution_count": 82,
   "metadata": {},
   "outputs": [
    {
     "data": {
      "text/html": [
       "<div>\n",
       "<style scoped>\n",
       "    .dataframe tbody tr th:only-of-type {\n",
       "        vertical-align: middle;\n",
       "    }\n",
       "\n",
       "    .dataframe tbody tr th {\n",
       "        vertical-align: top;\n",
       "    }\n",
       "\n",
       "    .dataframe thead th {\n",
       "        text-align: right;\n",
       "    }\n",
       "</style>\n",
       "<table border=\"1\" class=\"dataframe\">\n",
       "  <thead>\n",
       "    <tr style=\"text-align: right;\">\n",
       "      <th></th>\n",
       "      <th>user_id</th>\n",
       "      <th>reference</th>\n",
       "    </tr>\n",
       "  </thead>\n",
       "  <tbody>\n",
       "    <tr>\n",
       "      <th>29</th>\n",
       "      <td>01R92KASN25O</td>\n",
       "      <td>7818446</td>\n",
       "    </tr>\n",
       "    <tr>\n",
       "      <th>32</th>\n",
       "      <td>026J2T90PT57</td>\n",
       "      <td>2681512</td>\n",
       "    </tr>\n",
       "    <tr>\n",
       "      <th>39</th>\n",
       "      <td>032W52V15J3A</td>\n",
       "      <td>929533</td>\n",
       "    </tr>\n",
       "    <tr>\n",
       "      <th>73</th>\n",
       "      <td>03F93632Y45U</td>\n",
       "      <td>8496296</td>\n",
       "    </tr>\n",
       "    <tr>\n",
       "      <th>393</th>\n",
       "      <td>08527D0MD8VC</td>\n",
       "      <td>8266350</td>\n",
       "    </tr>\n",
       "  </tbody>\n",
       "</table>\n",
       "</div>"
      ],
      "text/plain": [
       "          user_id  reference\n",
       "29   01R92KASN25O    7818446\n",
       "32   026J2T90PT57    2681512\n",
       "39   032W52V15J3A     929533\n",
       "73   03F93632Y45U    8496296\n",
       "393  08527D0MD8VC    8266350"
      ]
     },
     "execution_count": 82,
     "metadata": {},
     "output_type": "execute_result"
    }
   ],
   "source": [
    "data = train_v3[['user_id','reference']]\n",
    "data.head()\n",
    "#np.shape(data)"
   ]
  },
  {
   "cell_type": "code",
   "execution_count": 83,
   "metadata": {},
   "outputs": [
    {
     "data": {
      "text/html": [
       "<div>\n",
       "<style scoped>\n",
       "    .dataframe tbody tr th:only-of-type {\n",
       "        vertical-align: middle;\n",
       "    }\n",
       "\n",
       "    .dataframe tbody tr th {\n",
       "        vertical-align: top;\n",
       "    }\n",
       "\n",
       "    .dataframe thead th {\n",
       "        text-align: right;\n",
       "    }\n",
       "</style>\n",
       "<table border=\"1\" class=\"dataframe\">\n",
       "  <thead>\n",
       "    <tr style=\"text-align: right;\">\n",
       "      <th></th>\n",
       "      <th>user</th>\n",
       "      <th>item</th>\n",
       "      <th>click_count</th>\n",
       "    </tr>\n",
       "  </thead>\n",
       "  <tbody>\n",
       "    <tr>\n",
       "      <th>0</th>\n",
       "      <td>0001VQMGUI65</td>\n",
       "      <td>477811</td>\n",
       "      <td>1</td>\n",
       "    </tr>\n",
       "    <tr>\n",
       "      <th>1</th>\n",
       "      <td>0001VQMGUI65</td>\n",
       "      <td>950829</td>\n",
       "      <td>1</td>\n",
       "    </tr>\n",
       "    <tr>\n",
       "      <th>2</th>\n",
       "      <td>0001VQMGUI65</td>\n",
       "      <td>2019467</td>\n",
       "      <td>1</td>\n",
       "    </tr>\n",
       "    <tr>\n",
       "      <th>3</th>\n",
       "      <td>0001VQMGUI65</td>\n",
       "      <td>3133074</td>\n",
       "      <td>2</td>\n",
       "    </tr>\n",
       "    <tr>\n",
       "      <th>4</th>\n",
       "      <td>0003QTCX5MJX</td>\n",
       "      <td>2195060</td>\n",
       "      <td>1</td>\n",
       "    </tr>\n",
       "  </tbody>\n",
       "</table>\n",
       "</div>"
      ],
      "text/plain": [
       "           user     item  click_count\n",
       "0  0001VQMGUI65   477811            1\n",
       "1  0001VQMGUI65   950829            1\n",
       "2  0001VQMGUI65  2019467            1\n",
       "3  0001VQMGUI65  3133074            2\n",
       "4  0003QTCX5MJX  2195060            1"
      ]
     },
     "execution_count": 83,
     "metadata": {},
     "output_type": "execute_result"
    }
   ],
   "source": [
    "data=data.groupby(['user_id','reference']).size().reset_index()\n",
    "data.columns = ['user', 'item', 'click_count']\n",
    "data.head()"
   ]
  },
  {
   "cell_type": "code",
   "execution_count": 84,
   "metadata": {
    "scrolled": true
   },
   "outputs": [
    {
     "data": {
      "text/html": [
       "<div>\n",
       "<style scoped>\n",
       "    .dataframe tbody tr th:only-of-type {\n",
       "        vertical-align: middle;\n",
       "    }\n",
       "\n",
       "    .dataframe tbody tr th {\n",
       "        vertical-align: top;\n",
       "    }\n",
       "\n",
       "    .dataframe thead th {\n",
       "        text-align: right;\n",
       "    }\n",
       "</style>\n",
       "<table border=\"1\" class=\"dataframe\">\n",
       "  <thead>\n",
       "    <tr style=\"text-align: right;\">\n",
       "      <th></th>\n",
       "      <th>user</th>\n",
       "      <th>item</th>\n",
       "      <th>click_count</th>\n",
       "      <th>user_id</th>\n",
       "      <th>item_id</th>\n",
       "    </tr>\n",
       "  </thead>\n",
       "  <tbody>\n",
       "    <tr>\n",
       "      <th>0</th>\n",
       "      <td>0001VQMGUI65</td>\n",
       "      <td>477811</td>\n",
       "      <td>1</td>\n",
       "      <td>0</td>\n",
       "      <td>61469</td>\n",
       "    </tr>\n",
       "    <tr>\n",
       "      <th>1</th>\n",
       "      <td>0001VQMGUI65</td>\n",
       "      <td>950829</td>\n",
       "      <td>1</td>\n",
       "      <td>0</td>\n",
       "      <td>76199</td>\n",
       "    </tr>\n",
       "    <tr>\n",
       "      <th>2</th>\n",
       "      <td>0001VQMGUI65</td>\n",
       "      <td>2019467</td>\n",
       "      <td>1</td>\n",
       "      <td>0</td>\n",
       "      <td>125448</td>\n",
       "    </tr>\n",
       "    <tr>\n",
       "      <th>3</th>\n",
       "      <td>0001VQMGUI65</td>\n",
       "      <td>3133074</td>\n",
       "      <td>2</td>\n",
       "      <td>0</td>\n",
       "      <td>167748</td>\n",
       "    </tr>\n",
       "    <tr>\n",
       "      <th>4</th>\n",
       "      <td>0003QTCX5MJX</td>\n",
       "      <td>2195060</td>\n",
       "      <td>1</td>\n",
       "      <td>1</td>\n",
       "      <td>133147</td>\n",
       "    </tr>\n",
       "  </tbody>\n",
       "</table>\n",
       "</div>"
      ],
      "text/plain": [
       "           user     item  click_count  user_id  item_id\n",
       "0  0001VQMGUI65   477811            1        0    61469\n",
       "1  0001VQMGUI65   950829            1        0    76199\n",
       "2  0001VQMGUI65  2019467            1        0   125448\n",
       "3  0001VQMGUI65  3133074            2        0   167748\n",
       "4  0003QTCX5MJX  2195060            1        1   133147"
      ]
     },
     "execution_count": 84,
     "metadata": {},
     "output_type": "execute_result"
    }
   ],
   "source": [
    "# Create a numeric user_id and artist_id column\n",
    "data['user'] = data['user'].astype(\"category\")\n",
    "data['item'] = data['item'].astype(\"category\")\n",
    "data['user_id'] = data['user'].cat.codes\n",
    "data['item_id'] = data['item'].cat.codes\n",
    "data.head()"
   ]
  },
  {
   "cell_type": "markdown",
   "metadata": {},
   "source": [
    "# ALS Collaborative Filtering Model"
   ]
  },
  {
   "cell_type": "code",
   "execution_count": 85,
   "metadata": {
    "scrolled": true
   },
   "outputs": [
    {
     "name": "stderr",
     "output_type": "stream",
     "text": [
      "100%|██████████| 20.0/20 [00:31<00:00,  1.39s/it]\n"
     ]
    }
   ],
   "source": [
    "# The implicit library expects data as a item-user matrix so we\n",
    "# create two matricies, one for fitting the model (item-user) \n",
    "# and one for recommendations (user-item)\n",
    "sparse_item_user = sparse.csr_matrix((data['click_count'].astype(float), (data['item_id'], data['user_id'])))\n",
    "sparse_user_item = sparse.csr_matrix((data['click_count'].astype(float), (data['user_id'], data['item_id'])))\n",
    "\n",
    "# Initialize the als model and fit it using the sparse item-user matrix\n",
    "model = implicit.als.AlternatingLeastSquares(factors=20, regularization=0.1, iterations=20)\n",
    "\n",
    "# Calculate the confidence by multiplying it by our alpha value.\n",
    "alpha_val = 15\n",
    "data_conf = (sparse_item_user * alpha_val).astype('double')\n",
    "\n",
    "#Fit the model\n",
    "model.fit(data_conf)"
   ]
  },
  {
   "cell_type": "code",
   "execution_count": 86,
   "metadata": {
    "scrolled": true
   },
   "outputs": [
    {
     "name": "stdout",
     "output_type": "stream",
     "text": [
      "5073\n",
      "6444110\n",
      "13468\n",
      "147422\n",
      "101797\n",
      "555191\n",
      "2397228\n",
      "939960\n",
      "6863\n",
      "974163\n"
     ]
    }
   ],
   "source": [
    "#---------------------\n",
    "# FIND SIMILAR ITEMS\n",
    "#---------------------\n",
    "\n",
    "# Find the 10 most similar to items 50\n",
    "item_id = 50 #items 50\n",
    "n_similar = 10\n",
    "\n",
    "# Use implicit to get similar items.\n",
    "similar = model.similar_items(item_id, n_similar)\n",
    "\n",
    "# Print the names of our most similar artists\n",
    "for item in similar:\n",
    "    idx, score = item\n",
    "    print(data.item.loc[data.item_id == idx].iloc[0])"
   ]
  },
  {
   "cell_type": "code",
   "execution_count": 87,
   "metadata": {},
   "outputs": [
    {
     "name": "stdout",
     "output_type": "stream",
     "text": [
      "      item     score\n",
      "0  1455251  0.000002\n",
      "1     5742  0.000002\n",
      "2   106769  0.000002\n",
      "3  3248926  0.000001\n",
      "4     8796  0.000001\n",
      "5  4290518  0.000001\n",
      "6  5055268  0.000001\n",
      "7   104710  0.000001\n",
      "8  1711789  0.000001\n",
      "9  1345387  0.000001\n"
     ]
    }
   ],
   "source": [
    "#------------------------------\n",
    "# CREATE USER RECOMMENDATIONS\n",
    "#------------------------------\n",
    "\n",
    "# Create recommendations for user with id 30\n",
    "user_id = 30\n",
    "\n",
    "# Use the implicit recommender.\n",
    "recommended = model.recommend(user_id, sparse_user_item)\n",
    "\n",
    "items = []\n",
    "scores = []\n",
    "\n",
    "# Get artist names from ids\n",
    "for item in recommended:\n",
    "    idx, score = item\n",
    "    items.append(data.item.loc[data.item_id == idx].iloc[0])\n",
    "    scores.append(score)\n",
    "\n",
    "# Create a dataframe of artist names and scores\n",
    "recommendations = pd.DataFrame({'item': items, 'score': scores})\n",
    "\n",
    "print(recommendations)"
   ]
  },
  {
   "cell_type": "markdown",
   "metadata": {},
   "source": [
    "# Data Preprocessing for Side Information - Feature Engineering"
   ]
  },
  {
   "cell_type": "code",
   "execution_count": 88,
   "metadata": {},
   "outputs": [
    {
     "data": {
      "text/plain": [
       "array(['search for destination', 'change of sort order',\n",
       "       'filter selection', 'interaction item image',\n",
       "       'interaction item info', 'interaction item deals', 'clickout item',\n",
       "       'search for item', 'search for poi'], dtype=object)"
      ]
     },
     "execution_count": 88,
     "metadata": {},
     "output_type": "execute_result"
    }
   ],
   "source": [
    "train['action_type'].unique()"
   ]
  },
  {
   "cell_type": "code",
   "execution_count": 89,
   "metadata": {},
   "outputs": [
    {
     "data": {
      "text/plain": [
       "(948041, 1)"
      ]
     },
     "execution_count": 89,
     "metadata": {},
     "output_type": "execute_result"
    }
   ],
   "source": [
    "user_id_table = train['user_id']\n",
    "user_id_table = pd.DataFrame(user_id_table)\n",
    "user_id_table = pd.DataFrame(user_id_table['user_id'].unique())\n",
    "user_id_table.columns = ['user_id']\n",
    "user_id_table.head()\n",
    "np.shape(user_id_table)"
   ]
  },
  {
   "cell_type": "code",
   "execution_count": 90,
   "metadata": {},
   "outputs": [],
   "source": [
    "search_for_destination_table = train[train['action_type']=='search for destination']\n",
    "search_for_destination_table = search_for_destination_table[['user_id','action_type']]\n",
    "search_for_destination_table['search_for_destination'] = 1\n",
    "\n",
    "change_of_sort_order_table = train[train['action_type']=='change of sort order']\n",
    "change_of_sort_order_table = change_of_sort_order_table[['user_id','action_type']]\n",
    "change_of_sort_order_table['change_of_sort_order'] = 1\n",
    "\n",
    "filter_selection_table = train[train['action_type']=='filter selection']\n",
    "filter_selection_table = filter_selection_table[['user_id','action_type']]\n",
    "filter_selection_table['filter_selection'] = 1\n",
    "\n",
    "interaction_item_image_table = train[train['action_type']=='interaction item image']\n",
    "interaction_item_image_table = interaction_item_image_table[['user_id','action_type']]\n",
    "interaction_item_image_table['interaction_item_image'] = 1\n",
    "\n",
    "interaction_item_info_table = train[train['action_type']=='interaction item info']\n",
    "interaction_item_info_table = interaction_item_info_table[['user_id','action_type']]\n",
    "interaction_item_info_table['interaction_item_info'] = 1\n",
    "\n",
    "interaction_item_deals_table = train[train['action_type']=='interaction item deals']\n",
    "interaction_item_deals_table = interaction_item_deals_table[['user_id','action_type']]\n",
    "interaction_item_deals_table['interaction_item_deals'] = 1\n",
    "\n",
    "search_for_item_table = train[train['action_type']=='search for item']\n",
    "search_for_item_table = search_for_item_table[['user_id','action_type']]\n",
    "search_for_item_table['search_for_item'] = 1\n",
    "\n",
    "search_for_poi_table = train[train['action_type']=='search for poi']\n",
    "search_for_poi_table = search_for_poi_table[['user_id','action_type']]\n",
    "search_for_poi_table['search_for_poi'] = 1"
   ]
  },
  {
   "cell_type": "code",
   "execution_count": 91,
   "metadata": {
    "scrolled": true
   },
   "outputs": [
    {
     "data": {
      "text/plain": [
       "(111924, 2)"
      ]
     },
     "execution_count": 91,
     "metadata": {},
     "output_type": "execute_result"
    }
   ],
   "source": [
    "search_for_destination_table=search_for_destination_table.groupby('user_id').search_for_destination.nunique().reset_index()\n",
    "change_of_sort_order_table=change_of_sort_order_table.groupby('user_id').change_of_sort_order.nunique().reset_index()\n",
    "filter_selection_table=filter_selection_table.groupby('user_id').filter_selection.nunique().reset_index()\n",
    "interaction_item_image_table=interaction_item_image_table.groupby('user_id').interaction_item_image.nunique().reset_index()\n",
    "interaction_item_info_table=interaction_item_info_table.groupby('user_id').interaction_item_info.nunique().reset_index()\n",
    "interaction_item_deals_table=interaction_item_deals_table.groupby('user_id').interaction_item_deals.nunique().reset_index()\n",
    "search_for_item_table=search_for_item_table.groupby('user_id').search_for_item.nunique().reset_index()\n",
    "search_for_poi_table=search_for_poi_table.groupby('user_id').search_for_poi.nunique().reset_index()\n",
    "search_for_poi_table.head()\n",
    "np.shape(search_for_poi_table)"
   ]
  },
  {
   "cell_type": "code",
   "execution_count": 92,
   "metadata": {},
   "outputs": [
    {
     "data": {
      "text/html": [
       "<div>\n",
       "<style scoped>\n",
       "    .dataframe tbody tr th:only-of-type {\n",
       "        vertical-align: middle;\n",
       "    }\n",
       "\n",
       "    .dataframe tbody tr th {\n",
       "        vertical-align: top;\n",
       "    }\n",
       "\n",
       "    .dataframe thead th {\n",
       "        text-align: right;\n",
       "    }\n",
       "</style>\n",
       "<table border=\"1\" class=\"dataframe\">\n",
       "  <thead>\n",
       "    <tr style=\"text-align: right;\">\n",
       "      <th></th>\n",
       "      <th>user_id</th>\n",
       "      <th>search_for_poi</th>\n",
       "    </tr>\n",
       "  </thead>\n",
       "  <tbody>\n",
       "    <tr>\n",
       "      <th>0</th>\n",
       "      <td>0008BO33KUQ0</td>\n",
       "      <td>1</td>\n",
       "    </tr>\n",
       "    <tr>\n",
       "      <th>1</th>\n",
       "      <td>001JFV0AYE6Z</td>\n",
       "      <td>1</td>\n",
       "    </tr>\n",
       "    <tr>\n",
       "      <th>2</th>\n",
       "      <td>001LT4KVZ14I</td>\n",
       "      <td>1</td>\n",
       "    </tr>\n",
       "    <tr>\n",
       "      <th>3</th>\n",
       "      <td>001TD1JLUE4D</td>\n",
       "      <td>1</td>\n",
       "    </tr>\n",
       "    <tr>\n",
       "      <th>4</th>\n",
       "      <td>0022E2NEUGQX</td>\n",
       "      <td>1</td>\n",
       "    </tr>\n",
       "  </tbody>\n",
       "</table>\n",
       "</div>"
      ],
      "text/plain": [
       "        user_id  search_for_poi\n",
       "0  0008BO33KUQ0               1\n",
       "1  001JFV0AYE6Z               1\n",
       "2  001LT4KVZ14I               1\n",
       "3  001TD1JLUE4D               1\n",
       "4  0022E2NEUGQX               1"
      ]
     },
     "execution_count": 92,
     "metadata": {},
     "output_type": "execute_result"
    }
   ],
   "source": [
    "search_for_poi_table.head()"
   ]
  },
  {
   "cell_type": "code",
   "execution_count": 93,
   "metadata": {},
   "outputs": [
    {
     "data": {
      "text/plain": [
       "['user_id', 'interaction_item_image']"
      ]
     },
     "execution_count": 93,
     "metadata": {},
     "output_type": "execute_result"
    }
   ],
   "source": [
    "list(interaction_item_image_table)"
   ]
  },
  {
   "cell_type": "code",
   "execution_count": 95,
   "metadata": {
    "scrolled": false
   },
   "outputs": [
    {
     "data": {
      "text/html": [
       "<div>\n",
       "<style scoped>\n",
       "    .dataframe tbody tr th:only-of-type {\n",
       "        vertical-align: middle;\n",
       "    }\n",
       "\n",
       "    .dataframe tbody tr th {\n",
       "        vertical-align: top;\n",
       "    }\n",
       "\n",
       "    .dataframe thead th {\n",
       "        text-align: right;\n",
       "    }\n",
       "</style>\n",
       "<table border=\"1\" class=\"dataframe\">\n",
       "  <thead>\n",
       "    <tr style=\"text-align: right;\">\n",
       "      <th></th>\n",
       "      <th>user_id</th>\n",
       "      <th>search_for_destination</th>\n",
       "      <th>change_of_sort_order</th>\n",
       "      <th>filter_selection</th>\n",
       "      <th>interaction_item_image</th>\n",
       "      <th>interaction_item_info</th>\n",
       "      <th>interaction_item_deals</th>\n",
       "      <th>search_for_item</th>\n",
       "      <th>search_for_poi</th>\n",
       "    </tr>\n",
       "  </thead>\n",
       "  <tbody>\n",
       "    <tr>\n",
       "      <th>0</th>\n",
       "      <td>008UN2RY0DMY</td>\n",
       "      <td>1.0</td>\n",
       "      <td>1.0</td>\n",
       "      <td>1.0</td>\n",
       "      <td>1.0</td>\n",
       "      <td>1.0</td>\n",
       "      <td>1.0</td>\n",
       "      <td>0.0</td>\n",
       "      <td>0.0</td>\n",
       "    </tr>\n",
       "    <tr>\n",
       "      <th>1</th>\n",
       "      <td>01R92KASN25O</td>\n",
       "      <td>0.0</td>\n",
       "      <td>0.0</td>\n",
       "      <td>0.0</td>\n",
       "      <td>1.0</td>\n",
       "      <td>0.0</td>\n",
       "      <td>1.0</td>\n",
       "      <td>0.0</td>\n",
       "      <td>0.0</td>\n",
       "    </tr>\n",
       "    <tr>\n",
       "      <th>2</th>\n",
       "      <td>026J2T90PT57</td>\n",
       "      <td>0.0</td>\n",
       "      <td>0.0</td>\n",
       "      <td>0.0</td>\n",
       "      <td>1.0</td>\n",
       "      <td>1.0</td>\n",
       "      <td>1.0</td>\n",
       "      <td>0.0</td>\n",
       "      <td>0.0</td>\n",
       "    </tr>\n",
       "    <tr>\n",
       "      <th>3</th>\n",
       "      <td>032W52V15J3A</td>\n",
       "      <td>0.0</td>\n",
       "      <td>0.0</td>\n",
       "      <td>0.0</td>\n",
       "      <td>1.0</td>\n",
       "      <td>0.0</td>\n",
       "      <td>0.0</td>\n",
       "      <td>0.0</td>\n",
       "      <td>0.0</td>\n",
       "    </tr>\n",
       "    <tr>\n",
       "      <th>4</th>\n",
       "      <td>03F93632Y45U</td>\n",
       "      <td>1.0</td>\n",
       "      <td>1.0</td>\n",
       "      <td>1.0</td>\n",
       "      <td>1.0</td>\n",
       "      <td>1.0</td>\n",
       "      <td>1.0</td>\n",
       "      <td>0.0</td>\n",
       "      <td>0.0</td>\n",
       "    </tr>\n",
       "  </tbody>\n",
       "</table>\n",
       "</div>"
      ],
      "text/plain": [
       "        user_id  search_for_destination  change_of_sort_order  \\\n",
       "0  008UN2RY0DMY                     1.0                   1.0   \n",
       "1  01R92KASN25O                     0.0                   0.0   \n",
       "2  026J2T90PT57                     0.0                   0.0   \n",
       "3  032W52V15J3A                     0.0                   0.0   \n",
       "4  03F93632Y45U                     1.0                   1.0   \n",
       "\n",
       "   filter_selection  interaction_item_image  interaction_item_info  \\\n",
       "0               1.0                     1.0                    1.0   \n",
       "1               0.0                     1.0                    0.0   \n",
       "2               0.0                     1.0                    1.0   \n",
       "3               0.0                     1.0                    0.0   \n",
       "4               1.0                     1.0                    1.0   \n",
       "\n",
       "   interaction_item_deals  search_for_item  search_for_poi  \n",
       "0                     1.0              0.0             0.0  \n",
       "1                     1.0              0.0             0.0  \n",
       "2                     1.0              0.0             0.0  \n",
       "3                     0.0              0.0             0.0  \n",
       "4                     1.0              0.0             0.0  "
      ]
     },
     "execution_count": 95,
     "metadata": {},
     "output_type": "execute_result"
    }
   ],
   "source": [
    "side_information_table = user_id_table.merge(search_for_destination_table, how='left', left_on='user_id', right_on = 'user_id').merge(change_of_sort_order_table, how='left', left_on='user_id', right_on = 'user_id').merge(filter_selection_table, how='left', left_on='user_id', right_on = 'user_id').merge(interaction_item_image_table, how='left', left_on='user_id', right_on = 'user_id').merge(interaction_item_info_table, how='left', left_on='user_id', right_on = 'user_id').merge(interaction_item_deals_table, how='left', left_on='user_id', right_on = 'user_id').merge(search_for_item_table, how='left', left_on='user_id', right_on = 'user_id').merge(search_for_poi_table, how='left', left_on='user_id', right_on = 'user_id')\n",
    "side_information_table = side_information_table.fillna(0)\n",
    "side_information_table.head()"
   ]
  },
  {
   "cell_type": "markdown",
   "metadata": {},
   "source": [
    "# Create User x Item Table"
   ]
  },
  {
   "cell_type": "code",
   "execution_count": null,
   "metadata": {
    "scrolled": true
   },
   "outputs": [],
   "source": [
    "user_id_item_table = data.pivot(index='user_id', columns='item_id', values='click_count').reset_index()\n",
    "user_id_item_table = user_id_item_table.fillna(0)\n",
    "user_id_item_table = user_id_item_table.add_prefix('item_')\n",
    "#keep_same = {'user_id'}\n",
    "#user_id_item_table.columns = ['{}{}'.format(c, '' if c in keep_same else 'item_')\n",
    " #                             for c in user_id_item_table.columns]\n",
    "user_id_item_table.rename(columns={'item_user_id':'user_id'}, inplace=True)\n",
    "user_id_item_table.head()"
   ]
  },
  {
   "cell_type": "code",
   "execution_count": null,
   "metadata": {},
   "outputs": [],
   "source": [
    "# Name of Dataframe: \n",
    "# - user_id_item_table: Table contains users and items\n",
    "# - side_information_table: Table contains user_id and feature variables"
   ]
  },
  {
   "cell_type": "code",
   "execution_count": null,
   "metadata": {},
   "outputs": [],
   "source": []
  },
  {
   "cell_type": "code",
   "execution_count": null,
   "metadata": {},
   "outputs": [],
   "source": []
  },
  {
   "cell_type": "code",
   "execution_count": null,
   "metadata": {},
   "outputs": [],
   "source": []
  }
 ],
 "metadata": {
  "kernelspec": {
   "display_name": "Python 3",
   "language": "python",
   "name": "python3"
  },
  "language_info": {
   "codemirror_mode": {
    "name": "ipython",
    "version": 3
   },
   "file_extension": ".py",
   "mimetype": "text/x-python",
   "name": "python",
   "nbconvert_exporter": "python",
   "pygments_lexer": "ipython3",
   "version": "3.6.7"
  }
 },
 "nbformat": 4,
 "nbformat_minor": 2
}
